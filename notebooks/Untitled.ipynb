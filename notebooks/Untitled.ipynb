{
 "cells": [
  {
   "cell_type": "code",
   "execution_count": 2,
   "id": "ed82c027-c187-4c55-8b0d-a5e4939d04b3",
   "metadata": {},
   "outputs": [],
   "source": [
    "import pandas as pd"
   ]
  },
  {
   "cell_type": "code",
   "execution_count": 6,
   "id": "1c2f69e5-1aed-4b8a-8d64-57f7e4f1e22b",
   "metadata": {},
   "outputs": [
    {
     "data": {
      "text/html": [
       "<div>\n",
       "<style scoped>\n",
       "    .dataframe tbody tr th:only-of-type {\n",
       "        vertical-align: middle;\n",
       "    }\n",
       "\n",
       "    .dataframe tbody tr th {\n",
       "        vertical-align: top;\n",
       "    }\n",
       "\n",
       "    .dataframe thead th {\n",
       "        text-align: right;\n",
       "    }\n",
       "</style>\n",
       "<table border=\"1\" class=\"dataframe\">\n",
       "  <thead>\n",
       "    <tr style=\"text-align: right;\">\n",
       "      <th></th>\n",
       "      <th>EmplExp;InProdIndx;PriceIndex;RetailIndic;EconSntIdic;UnemplRate</th>\n",
       "    </tr>\n",
       "  </thead>\n",
       "  <tbody>\n",
       "    <tr>\n",
       "      <th>0</th>\n",
       "      <td>14.7;87.4;-0.3;27.8;10.5;4.1</td>\n",
       "    </tr>\n",
       "    <tr>\n",
       "      <th>1</th>\n",
       "      <td>12.7;84.7;0.6;26.5;15.5;4.2</td>\n",
       "    </tr>\n",
       "    <tr>\n",
       "      <th>2</th>\n",
       "      <td>9.7;100.7;1.1;28.5;19.5;4.2</td>\n",
       "    </tr>\n",
       "    <tr>\n",
       "      <th>3</th>\n",
       "      <td>14.7;90.6;0.4;29.5;22.5;3.9</td>\n",
       "    </tr>\n",
       "    <tr>\n",
       "      <th>4</th>\n",
       "      <td>11.7;99.5;0.3;28.8;19.0;3.8</td>\n",
       "    </tr>\n",
       "    <tr>\n",
       "      <th>...</th>\n",
       "      <td>...</td>\n",
       "    </tr>\n",
       "    <tr>\n",
       "      <th>319</th>\n",
       "      <td>2;101.7;-1.0;6.1;7.5;4.0</td>\n",
       "    </tr>\n",
       "    <tr>\n",
       "      <th>320</th>\n",
       "      <td>2;100.3;-1.0;6.1;7.4;4.0</td>\n",
       "    </tr>\n",
       "    <tr>\n",
       "      <th>321</th>\n",
       "      <td>2.1;98.6;-1.0;6.1;7.2;4.0</td>\n",
       "    </tr>\n",
       "    <tr>\n",
       "      <th>322</th>\n",
       "      <td>2.1;102.9;-1.0;6.1;7.1;4.0</td>\n",
       "    </tr>\n",
       "    <tr>\n",
       "      <th>323</th>\n",
       "      <td>2.1;102.4;-1.0;6.1;6.9;4.0</td>\n",
       "    </tr>\n",
       "  </tbody>\n",
       "</table>\n",
       "<p>324 rows × 1 columns</p>\n",
       "</div>"
      ],
      "text/plain": [
       "    EmplExp;InProdIndx;PriceIndex;RetailIndic;EconSntIdic;UnemplRate\n",
       "0                         14.7;87.4;-0.3;27.8;10.5;4.1              \n",
       "1                          12.7;84.7;0.6;26.5;15.5;4.2              \n",
       "2                          9.7;100.7;1.1;28.5;19.5;4.2              \n",
       "3                          14.7;90.6;0.4;29.5;22.5;3.9              \n",
       "4                          11.7;99.5;0.3;28.8;19.0;3.8              \n",
       "..                                                 ...              \n",
       "319                           2;101.7;-1.0;6.1;7.5;4.0              \n",
       "320                           2;100.3;-1.0;6.1;7.4;4.0              \n",
       "321                          2.1;98.6;-1.0;6.1;7.2;4.0              \n",
       "322                         2.1;102.9;-1.0;6.1;7.1;4.0              \n",
       "323                         2.1;102.4;-1.0;6.1;6.9;4.0              \n",
       "\n",
       "[324 rows x 1 columns]"
      ]
     },
     "execution_count": 6,
     "metadata": {},
     "output_type": "execute_result"
    }
   ],
   "source": [
    "pd.read_csv('~/Desktop/plzdzialaj22.csv')"
   ]
  },
  {
   "cell_type": "code",
   "execution_count": null,
   "id": "715e9ef5-4fa4-4441-9042-89eca0ca7a2e",
   "metadata": {},
   "outputs": [],
   "source": []
  }
 ],
 "metadata": {
  "kernelspec": {
   "display_name": "Chomage Kernel",
   "language": "python3",
   "name": "chomage_ker"
  },
  "language_info": {
   "codemirror_mode": {
    "name": "ipython",
    "version": 3
   },
   "file_extension": ".py",
   "mimetype": "text/x-python",
   "name": "python",
   "nbconvert_exporter": "python",
   "pygments_lexer": "ipython3",
   "version": "3.11.7"
  }
 },
 "nbformat": 4,
 "nbformat_minor": 5
}
