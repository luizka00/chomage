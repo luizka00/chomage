{
 "cells": [
  {
   "cell_type": "markdown",
   "id": "b83a797d-5f1f-45fd-86b6-3cba98930f0e",
   "metadata": {},
   "source": [
    "Unemployment is a very real problem in virtually every country. A small unemployment percentage is normal and healthy for the economy, but there are times when it becomes problematic.\n",
    "What could affect unemployment in the Netherlands? I will be using linear regression to try and predict the NL unemployment using monthly data gathered since 1996-02. The model will be far from perfect since there is not a large amount of data gathered so meticulously every month, but as Geogre E.P. Box said- all models are wrong, but some are useful. "
   ]
  },
  {
   "cell_type": "markdown",
   "id": "7338ab23-c9aa-4134-b157-b8db78099c08",
   "metadata": {},
   "source": [
    "# IMPORTS "
   ]
  },
  {
   "cell_type": "code",
   "execution_count": 1,
   "id": "0cf8576c-0e4a-419a-a307-1d317d8fc720",
   "metadata": {},
   "outputs": [],
   "source": [
    "import pandas as pd\n",
    "import numpy as np\n",
    "import matplotlib as mp\n",
    "import seaborn as sb\n",
    "import os"
   ]
  },
  {
   "cell_type": "code",
   "execution_count": 2,
   "id": "29c3342d-b6ed-480a-b6b2-fb53c0047847",
   "metadata": {},
   "outputs": [],
   "source": [
    "sys.path.append('/Users/luizasemeniuk/chomage/chomage_project/code')\n",
    "\n",
    "import econometrics_modules\n",
    "from econometrics_modules import pull_data #importing a function that pulls data from eurostat "
   ]
  },
  {
   "cell_type": "code",
   "execution_count": 3,
   "id": "cedfb598-ecb7-4d51-b164-1ed3e2abccca",
   "metadata": {},
   "outputs": [],
   "source": [
    "from econometrics_modules import clean_dataframe , is_year_month_format"
   ]
  },
  {
   "cell_type": "markdown",
   "id": "2a7d8f6d-4e9d-4b86-9129-618a76a28cad",
   "metadata": {},
   "source": [
    "# IMPORTING DATASETS FROM EUROSTAT:"
   ]
  },
  {
   "cell_type": "code",
   "execution_count": 4,
   "id": "e346c69e-6688-448a-9e44-4e6e270efa5c",
   "metadata": {},
   "outputs": [],
   "source": [
    "#Price index.\n",
    "pull_data('prc_hicp_mmor', 'price_index.csv')"
   ]
  },
  {
   "cell_type": "code",
   "execution_count": 5,
   "id": "abb42ce3-dbe3-469a-8407-2b2581b6c3e6",
   "metadata": {},
   "outputs": [],
   "source": [
    "#Unemployment rate\n",
    "pull_data('ei_lmhr_m', 'unemployment_rate.csv')"
   ]
  },
  {
   "cell_type": "code",
   "execution_count": 6,
   "id": "a9a15177-8f3b-421e-af46-fc2c9e6609dd",
   "metadata": {},
   "outputs": [],
   "source": [
    "#economic sentiment indicator\n",
    "pull_data('ei_bssi_m_r2', 'sentiment_indicator.csv')"
   ]
  },
  {
   "cell_type": "code",
   "execution_count": 7,
   "id": "6c5f52a3-8a2d-4d60-9e6a-e220e576692e",
   "metadata": {},
   "outputs": [],
   "source": [
    "#retail sale\n",
    "pull_data('ei_bsrt_m_r2', 'retail_sale.csv')"
   ]
  },
  {
   "cell_type": "code",
   "execution_count": 8,
   "id": "3715a4e0-7565-4dea-9a7b-0038bb1b7984",
   "metadata": {},
   "outputs": [],
   "source": [
    "#employment expectations over the next 3 months\n",
    "pull_data('ei_bsrt_m_r2', 'empl_exp.csv')"
   ]
  },
  {
   "cell_type": "markdown",
   "id": "8bf63ae9-4fa1-46a2-9c70-fef4396d5cfc",
   "metadata": {},
   "source": [
    "# DATA FORMATTING AND CLEANING"
   ]
  },
  {
   "cell_type": "code",
   "execution_count": 9,
   "id": "e5f78a40-06ca-4f16-9bf2-644a40070422",
   "metadata": {},
   "outputs": [],
   "source": [
    "#Price Index formatting\n",
    "price_index = pd.read_csv('data/price_index.csv')\n",
    "clean_dataframe(price_index, 5 ,'price_index')"
   ]
  },
  {
   "cell_type": "code",
   "execution_count": 10,
   "id": "fddee572-6794-4866-96b4-7f50e71ad0e7",
   "metadata": {},
   "outputs": [],
   "source": [
    "#Unemployment rate - formatting\n",
    "unemployment_rate = pd.read_csv('data/unemployment_rate.csv')\n",
    "clean_dataframe(unemployment_rate, 8, 'unemployment_rate')"
   ]
  },
  {
   "cell_type": "code",
   "execution_count": 11,
   "id": "a5bc65f2-6384-41d8-8072-e3aeb40a57e4",
   "metadata": {},
   "outputs": [],
   "source": [
    "#Economic sentiment indicator - formatting\n",
    "sentiment_indicator = pd.read_csv('data/sentiment_indicator.csv')\n",
    "clean_dataframe(sentiment_indicator, 0, 'sentiment_indicator')"
   ]
  },
  {
   "cell_type": "code",
   "execution_count": 12,
   "id": "7b067862-5f89-45a3-b1c0-aef69adaa77a",
   "metadata": {},
   "outputs": [],
   "source": [
    "#Retail sale - formatting\n",
    "retail_sale = pd.read_csv('data/retail_sale.csv')\n",
    "clean_dataframe(retail_sale, 2, 'retail_sale')"
   ]
  },
  {
   "cell_type": "code",
   "execution_count": 13,
   "id": "b6705b97-70ee-4247-8936-8f720f22ed4a",
   "metadata": {
    "scrolled": true
   },
   "outputs": [],
   "source": [
    "#Employment expectations over the next 3 months - formatting\n",
    "empl_exp = pd.read_csv('data/empl_exp.csv')\n",
    "clean_dataframe(empl_exp, 6, 'empl_exp')"
   ]
  },
  {
   "cell_type": "markdown",
   "id": "99131fd4-28a6-4b57-9031-84f9779aa035",
   "metadata": {},
   "source": [
    "# CREATING THE DATASET FOR THE LEAST SQUARES MODEL"
   ]
  },
  {
   "cell_type": "code",
   "execution_count": 14,
   "id": "b4b7a397-e064-4337-9554-c042128dcff8",
   "metadata": {},
   "outputs": [],
   "source": [
    "#Downloading the datasets updated with clean_dataframe module\n",
    "empl_exp = pd.read_csv('data/empl_exp.csv')\n",
    "price_index = pd.read_csv('data/price_index.csv')\n",
    "retail_sale = pd.read_csv('data/retail_sale.csv')\n",
    "sentiment_indicator = pd.read_csv('data/sentiment_indicator.csv')\n",
    "unemployment_rate = pd.read_csv('data/unemployment_rate.csv')"
   ]
  },
  {
   "cell_type": "code",
   "execution_count": 16,
   "id": "424d22b9-a35f-487e-8f95-dc82c784813f",
   "metadata": {},
   "outputs": [],
   "source": [
    "dataset = pd.concat([empl_exp, price_index, retail_sale, sentiment_indicator, unemployment_rate], axis=0)"
   ]
  },
  {
   "cell_type": "code",
   "execution_count": 17,
   "id": "8c388ee0-763c-444f-9cb1-15591a4abaf4",
   "metadata": {},
   "outputs": [
    {
     "data": {
      "text/html": [
       "<div>\n",
       "<style scoped>\n",
       "    .dataframe tbody tr th:only-of-type {\n",
       "        vertical-align: middle;\n",
       "    }\n",
       "\n",
       "    .dataframe tbody tr th {\n",
       "        vertical-align: top;\n",
       "    }\n",
       "\n",
       "    .dataframe thead th {\n",
       "        text-align: right;\n",
       "    }\n",
       "</style>\n",
       "<table border=\"1\" class=\"dataframe\">\n",
       "  <thead>\n",
       "    <tr style=\"text-align: right;\">\n",
       "      <th></th>\n",
       "      <th>1996-02-01</th>\n",
       "      <th>1996-03-01</th>\n",
       "      <th>1996-04-01</th>\n",
       "      <th>1996-05-01</th>\n",
       "      <th>1996-06-01</th>\n",
       "      <th>1996-07-01</th>\n",
       "      <th>1996-08-01</th>\n",
       "      <th>1996-09-01</th>\n",
       "      <th>1996-10-01</th>\n",
       "      <th>1996-11-01</th>\n",
       "      <th>...</th>\n",
       "      <th>2024-02-01</th>\n",
       "      <th>2024-03-01</th>\n",
       "      <th>2024-04-01</th>\n",
       "      <th>2024-05-01</th>\n",
       "      <th>2024-06-01</th>\n",
       "      <th>2024-07-01</th>\n",
       "      <th>2024-08-01</th>\n",
       "      <th>2024-09-01</th>\n",
       "      <th>2024-10-01</th>\n",
       "      <th>2024-11-01</th>\n",
       "    </tr>\n",
       "  </thead>\n",
       "  <tbody>\n",
       "    <tr>\n",
       "      <th>0</th>\n",
       "      <td>1.7</td>\n",
       "      <td>2.7</td>\n",
       "      <td>2.7</td>\n",
       "      <td>2.7</td>\n",
       "      <td>2.7</td>\n",
       "      <td>2.7</td>\n",
       "      <td>1.7</td>\n",
       "      <td>4.7</td>\n",
       "      <td>0.7</td>\n",
       "      <td>2.7</td>\n",
       "      <td>...</td>\n",
       "      <td>1.8</td>\n",
       "      <td>4.6</td>\n",
       "      <td>3.4</td>\n",
       "      <td>-1.6</td>\n",
       "      <td>-0.3</td>\n",
       "      <td>-1.2</td>\n",
       "      <td>0.8</td>\n",
       "      <td>-0.2</td>\n",
       "      <td>0.0</td>\n",
       "      <td>-5.1</td>\n",
       "    </tr>\n",
       "    <tr>\n",
       "      <th>0</th>\n",
       "      <td>0.5</td>\n",
       "      <td>1.2</td>\n",
       "      <td>0.3</td>\n",
       "      <td>-0.4</td>\n",
       "      <td>-0.5</td>\n",
       "      <td>-0.3</td>\n",
       "      <td>-0.2</td>\n",
       "      <td>1.1</td>\n",
       "      <td>0.3</td>\n",
       "      <td>-0.2</td>\n",
       "      <td>...</td>\n",
       "      <td>0.9</td>\n",
       "      <td>0.6</td>\n",
       "      <td>1.1</td>\n",
       "      <td>0.3</td>\n",
       "      <td>0.2</td>\n",
       "      <td>1.3</td>\n",
       "      <td>0.4</td>\n",
       "      <td>-0.9</td>\n",
       "      <td>0.6</td>\n",
       "      <td>-1.0</td>\n",
       "    </tr>\n",
       "    <tr>\n",
       "      <th>0</th>\n",
       "      <td>12.5</td>\n",
       "      <td>9.1</td>\n",
       "      <td>14.5</td>\n",
       "      <td>11.8</td>\n",
       "      <td>16.5</td>\n",
       "      <td>16.8</td>\n",
       "      <td>17.1</td>\n",
       "      <td>17.5</td>\n",
       "      <td>14.5</td>\n",
       "      <td>17.8</td>\n",
       "      <td>...</td>\n",
       "      <td>5.7</td>\n",
       "      <td>-1.6</td>\n",
       "      <td>2.7</td>\n",
       "      <td>-2.4</td>\n",
       "      <td>-6.1</td>\n",
       "      <td>-1.8</td>\n",
       "      <td>0.0</td>\n",
       "      <td>-2.4</td>\n",
       "      <td>0.3</td>\n",
       "      <td>6.1</td>\n",
       "    </tr>\n",
       "    <tr>\n",
       "      <th>0</th>\n",
       "      <td>-6.4</td>\n",
       "      <td>0.6</td>\n",
       "      <td>6.6</td>\n",
       "      <td>6.1</td>\n",
       "      <td>5.6</td>\n",
       "      <td>0.6</td>\n",
       "      <td>0.6</td>\n",
       "      <td>0.1</td>\n",
       "      <td>-4.4</td>\n",
       "      <td>-4.9</td>\n",
       "      <td>...</td>\n",
       "      <td>6.5</td>\n",
       "      <td>7.4</td>\n",
       "      <td>9.0</td>\n",
       "      <td>6.8</td>\n",
       "      <td>10.7</td>\n",
       "      <td>11.7</td>\n",
       "      <td>11.2</td>\n",
       "      <td>14.7</td>\n",
       "      <td>12.1</td>\n",
       "      <td>12.0</td>\n",
       "    </tr>\n",
       "    <tr>\n",
       "      <th>0</th>\n",
       "      <td>8.7</td>\n",
       "      <td>8.6</td>\n",
       "      <td>8.0</td>\n",
       "      <td>7.8</td>\n",
       "      <td>7.8</td>\n",
       "      <td>7.0</td>\n",
       "      <td>7.0</td>\n",
       "      <td>7.3</td>\n",
       "      <td>7.3</td>\n",
       "      <td>7.3</td>\n",
       "      <td>...</td>\n",
       "      <td>3.9</td>\n",
       "      <td>3.7</td>\n",
       "      <td>3.6</td>\n",
       "      <td>3.5</td>\n",
       "      <td>3.7</td>\n",
       "      <td>3.5</td>\n",
       "      <td>3.7</td>\n",
       "      <td>3.9</td>\n",
       "      <td>3.7</td>\n",
       "      <td>3.5</td>\n",
       "    </tr>\n",
       "  </tbody>\n",
       "</table>\n",
       "<p>5 rows × 346 columns</p>\n",
       "</div>"
      ],
      "text/plain": [
       "   1996-02-01  1996-03-01  1996-04-01  1996-05-01  1996-06-01  1996-07-01  \\\n",
       "0         1.7         2.7         2.7         2.7         2.7         2.7   \n",
       "0         0.5         1.2         0.3        -0.4        -0.5        -0.3   \n",
       "0        12.5         9.1        14.5        11.8        16.5        16.8   \n",
       "0        -6.4         0.6         6.6         6.1         5.6         0.6   \n",
       "0         8.7         8.6         8.0         7.8         7.8         7.0   \n",
       "\n",
       "   1996-08-01  1996-09-01  1996-10-01  1996-11-01  ...  2024-02-01  \\\n",
       "0         1.7         4.7         0.7         2.7  ...         1.8   \n",
       "0        -0.2         1.1         0.3        -0.2  ...         0.9   \n",
       "0        17.1        17.5        14.5        17.8  ...         5.7   \n",
       "0         0.6         0.1        -4.4        -4.9  ...         6.5   \n",
       "0         7.0         7.3         7.3         7.3  ...         3.9   \n",
       "\n",
       "   2024-03-01  2024-04-01  2024-05-01  2024-06-01  2024-07-01  2024-08-01  \\\n",
       "0         4.6         3.4        -1.6        -0.3        -1.2         0.8   \n",
       "0         0.6         1.1         0.3         0.2         1.3         0.4   \n",
       "0        -1.6         2.7        -2.4        -6.1        -1.8         0.0   \n",
       "0         7.4         9.0         6.8        10.7        11.7        11.2   \n",
       "0         3.7         3.6         3.5         3.7         3.5         3.7   \n",
       "\n",
       "   2024-09-01  2024-10-01  2024-11-01  \n",
       "0        -0.2         0.0        -5.1  \n",
       "0        -0.9         0.6        -1.0  \n",
       "0        -2.4         0.3         6.1  \n",
       "0        14.7        12.1        12.0  \n",
       "0         3.9         3.7         3.5  \n",
       "\n",
       "[5 rows x 346 columns]"
      ]
     },
     "execution_count": 17,
     "metadata": {},
     "output_type": "execute_result"
    }
   ],
   "source": [
    "dataset"
   ]
  },
  {
   "cell_type": "code",
   "execution_count": 18,
   "id": "fdc224da-d829-4de6-a19f-beef1a3bb525",
   "metadata": {},
   "outputs": [],
   "source": [
    "dataset.index = ['EmplExp', 'PriceIndex', 'RetailIndic', 'EconSntIdic', 'UnemplRate'] "
   ]
  },
  {
   "cell_type": "code",
   "execution_count": 19,
   "id": "6af04237-4150-4eed-b539-b51fcbd176d7",
   "metadata": {},
   "outputs": [],
   "source": [
    "dataset = dataset.transpose()"
   ]
  },
  {
   "cell_type": "code",
   "execution_count": 20,
   "id": "55901176-c11f-470e-a726-fff864774dc2",
   "metadata": {},
   "outputs": [],
   "source": [
    "#Define the dataset file path\n",
    "file_path = os.path.join('data', 'dataset.csv')\n",
    "\n",
    "# Save the dataset to the CSV file\n",
    "dataset.to_csv(file_path, index=False)"
   ]
  },
  {
   "cell_type": "code",
   "execution_count": 21,
   "id": "f37c98f7-23db-4bca-87aa-b05837c38823",
   "metadata": {},
   "outputs": [
    {
     "data": {
      "text/html": [
       "<div>\n",
       "<style scoped>\n",
       "    .dataframe tbody tr th:only-of-type {\n",
       "        vertical-align: middle;\n",
       "    }\n",
       "\n",
       "    .dataframe tbody tr th {\n",
       "        vertical-align: top;\n",
       "    }\n",
       "\n",
       "    .dataframe thead th {\n",
       "        text-align: right;\n",
       "    }\n",
       "</style>\n",
       "<table border=\"1\" class=\"dataframe\">\n",
       "  <thead>\n",
       "    <tr style=\"text-align: right;\">\n",
       "      <th></th>\n",
       "      <th>EmplExp</th>\n",
       "      <th>PriceIndex</th>\n",
       "      <th>RetailIndic</th>\n",
       "      <th>EconSntIdic</th>\n",
       "      <th>UnemplRate</th>\n",
       "    </tr>\n",
       "  </thead>\n",
       "  <tbody>\n",
       "    <tr>\n",
       "      <th>1996-02-01</th>\n",
       "      <td>1.7</td>\n",
       "      <td>0.5</td>\n",
       "      <td>12.5</td>\n",
       "      <td>-6.4</td>\n",
       "      <td>8.7</td>\n",
       "    </tr>\n",
       "    <tr>\n",
       "      <th>1996-03-01</th>\n",
       "      <td>2.7</td>\n",
       "      <td>1.2</td>\n",
       "      <td>9.1</td>\n",
       "      <td>0.6</td>\n",
       "      <td>8.6</td>\n",
       "    </tr>\n",
       "    <tr>\n",
       "      <th>1996-04-01</th>\n",
       "      <td>2.7</td>\n",
       "      <td>0.3</td>\n",
       "      <td>14.5</td>\n",
       "      <td>6.6</td>\n",
       "      <td>8.0</td>\n",
       "    </tr>\n",
       "    <tr>\n",
       "      <th>1996-05-01</th>\n",
       "      <td>2.7</td>\n",
       "      <td>-0.4</td>\n",
       "      <td>11.8</td>\n",
       "      <td>6.1</td>\n",
       "      <td>7.8</td>\n",
       "    </tr>\n",
       "    <tr>\n",
       "      <th>1996-06-01</th>\n",
       "      <td>2.7</td>\n",
       "      <td>-0.5</td>\n",
       "      <td>16.5</td>\n",
       "      <td>5.6</td>\n",
       "      <td>7.8</td>\n",
       "    </tr>\n",
       "    <tr>\n",
       "      <th>...</th>\n",
       "      <td>...</td>\n",
       "      <td>...</td>\n",
       "      <td>...</td>\n",
       "      <td>...</td>\n",
       "      <td>...</td>\n",
       "    </tr>\n",
       "    <tr>\n",
       "      <th>2024-07-01</th>\n",
       "      <td>-1.2</td>\n",
       "      <td>1.3</td>\n",
       "      <td>-1.8</td>\n",
       "      <td>11.7</td>\n",
       "      <td>3.5</td>\n",
       "    </tr>\n",
       "    <tr>\n",
       "      <th>2024-08-01</th>\n",
       "      <td>0.8</td>\n",
       "      <td>0.4</td>\n",
       "      <td>0.0</td>\n",
       "      <td>11.2</td>\n",
       "      <td>3.7</td>\n",
       "    </tr>\n",
       "    <tr>\n",
       "      <th>2024-09-01</th>\n",
       "      <td>-0.2</td>\n",
       "      <td>-0.9</td>\n",
       "      <td>-2.4</td>\n",
       "      <td>14.7</td>\n",
       "      <td>3.9</td>\n",
       "    </tr>\n",
       "    <tr>\n",
       "      <th>2024-10-01</th>\n",
       "      <td>0.0</td>\n",
       "      <td>0.6</td>\n",
       "      <td>0.3</td>\n",
       "      <td>12.1</td>\n",
       "      <td>3.7</td>\n",
       "    </tr>\n",
       "    <tr>\n",
       "      <th>2024-11-01</th>\n",
       "      <td>-5.1</td>\n",
       "      <td>-1.0</td>\n",
       "      <td>6.1</td>\n",
       "      <td>12.0</td>\n",
       "      <td>3.5</td>\n",
       "    </tr>\n",
       "  </tbody>\n",
       "</table>\n",
       "<p>346 rows × 5 columns</p>\n",
       "</div>"
      ],
      "text/plain": [
       "            EmplExp  PriceIndex  RetailIndic  EconSntIdic  UnemplRate\n",
       "1996-02-01      1.7         0.5         12.5         -6.4         8.7\n",
       "1996-03-01      2.7         1.2          9.1          0.6         8.6\n",
       "1996-04-01      2.7         0.3         14.5          6.6         8.0\n",
       "1996-05-01      2.7        -0.4         11.8          6.1         7.8\n",
       "1996-06-01      2.7        -0.5         16.5          5.6         7.8\n",
       "...             ...         ...          ...          ...         ...\n",
       "2024-07-01     -1.2         1.3         -1.8         11.7         3.5\n",
       "2024-08-01      0.8         0.4          0.0         11.2         3.7\n",
       "2024-09-01     -0.2        -0.9         -2.4         14.7         3.9\n",
       "2024-10-01      0.0         0.6          0.3         12.1         3.7\n",
       "2024-11-01     -5.1        -1.0          6.1         12.0         3.5\n",
       "\n",
       "[346 rows x 5 columns]"
      ]
     },
     "execution_count": 21,
     "metadata": {},
     "output_type": "execute_result"
    }
   ],
   "source": [
    "dataset"
   ]
  },
  {
   "cell_type": "markdown",
   "id": "adb601da-42f6-4a22-b8ad-dbd835292e57",
   "metadata": {},
   "source": [
    "# EXPLORATORY DATA ANALYSIS"
   ]
  },
  {
   "cell_type": "code",
   "execution_count": null,
   "id": "5b802b92-c535-4ffa-8593-6c66ae3c00c0",
   "metadata": {},
   "outputs": [],
   "source": []
  }
 ],
 "metadata": {
  "kernelspec": {
   "display_name": "Chomage Kernel",
   "language": "python3",
   "name": "chomage_ker"
  },
  "language_info": {
   "codemirror_mode": {
    "name": "ipython",
    "version": 3
   },
   "file_extension": ".py",
   "mimetype": "text/x-python",
   "name": "python",
   "nbconvert_exporter": "python",
   "pygments_lexer": "ipython3",
   "version": "3.11.7"
  }
 },
 "nbformat": 4,
 "nbformat_minor": 5
}
